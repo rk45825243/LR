{
 "cells": [
  {
   "cell_type": "markdown",
   "metadata": {},
   "source": [
    "# OrderedDict -keep track of order"
   ]
  },
  {
   "cell_type": "code",
   "execution_count": 9,
   "metadata": {},
   "outputs": [
    {
     "name": "stdout",
     "output_type": "stream",
     "text": [
      "OrderedDict([('name', 'ravi'), ('age', 21)])\n",
      "odict_keys(['name', 'age'])\n",
      "odict_values(['ravi', 21])\n",
      "odict_values(['ravi', 21])\n"
     ]
    }
   ],
   "source": [
    "from collections import OrderedDict\n",
    "ordered_dict=OrderedDict()\n",
    "ordered_dict['name']=\"ravi\"\n",
    "ordered_dict['age']=21\n",
    "print(ordered_dict)\n",
    "print(ordered_dict.keys())\n",
    "print(ordered_dict.values())\n",
    "print(ordered_dict.values())"
   ]
  },
  {
   "cell_type": "code",
   "execution_count": 15,
   "metadata": {},
   "outputs": [
    {
     "name": "stdout",
     "output_type": "stream",
     "text": [
      "dict_keys(['name', 'age', 'nationality'])\n",
      "dict_values(['ravi', 21, 'indian'])\n",
      "{'name': 'ravi', 'age': 21, 'nationality': 'indian'}\n"
     ]
    }
   ],
   "source": [
    "dict1={\"name\":\"ravi\",\"age\":21,\"nationality\":\"indian\"}\n",
    "print(dict1.keys())\n",
    "print(dict1.values())\n",
    "print(dict1)"
   ]
  },
  {
   "cell_type": "code",
   "execution_count": 10,
   "metadata": {},
   "outputs": [
    {
     "data": {
      "text/plain": [
       "{'name': 'ravi', 'age': 21, 'nationality': 'indian'}"
      ]
     },
     "execution_count": 10,
     "metadata": {},
     "output_type": "execute_result"
    }
   ],
   "source": [
    "from collections import OrderedDict\n",
    "dict1"
   ]
  },
  {
   "cell_type": "code",
   "execution_count": 12,
   "metadata": {},
   "outputs": [
    {
     "name": "stdout",
     "output_type": "stream",
     "text": [
      "name ravi\n",
      "age 21\n",
      "nationality indian\n"
     ]
    }
   ],
   "source": [
    "for k,v in dict1.items():\n",
    "    print (k,v)"
   ]
  },
  {
   "cell_type": "code",
   "execution_count": 14,
   "metadata": {},
   "outputs": [
    {
     "name": "stdout",
     "output_type": "stream",
     "text": [
      "name ravi\n",
      "age 21\n"
     ]
    }
   ],
   "source": [
    "for k1,v1 in ordered_dict.items():\n",
    "    print(k1,v1)"
   ]
  },
  {
   "cell_type": "markdown",
   "metadata": {},
   "source": [
    "# Counter- used for counting objects"
   ]
  },
  {
   "cell_type": "code",
   "execution_count": 18,
   "metadata": {},
   "outputs": [
    {
     "name": "stdout",
     "output_type": "stream",
     "text": [
      "Counter({'a': 5, ' ': 4, 'i': 3, 'n': 3, 'l': 2, 'd': 2, 'A': 1, 'h': 1, 'b': 1, 's': 1, 'I': 1, 'c': 1, 't': 1, 'y': 1})\n"
     ]
    }
   ],
   "source": [
    "from collections import Counter\n",
    "c=Counter(\"Allahabad is an Indian city\")\n",
    "print(c)"
   ]
  },
  {
   "cell_type": "code",
   "execution_count": 22,
   "metadata": {},
   "outputs": [
    {
     "data": {
      "text/plain": [
       "Counter({1: 1, 3: 4, 4: 4, 5: 2, 6: 1, 2: 3})"
      ]
     },
     "execution_count": 22,
     "metadata": {},
     "output_type": "execute_result"
    }
   ],
   "source": [
    "d=Counter([1,3,4,5,6,2,3,4,2,3,4,5,4,3,2,])\n",
    "d\n"
   ]
  },
  {
   "cell_type": "code",
   "execution_count": 25,
   "metadata": {},
   "outputs": [
    {
     "name": "stdout",
     "output_type": "stream",
     "text": [
      "['A', 'l', 'l', 'a', 'a', 'a', 'a', 'a', 'h', 'b', 'd', 'd', ' ', ' ', ' ', ' ', 'i', 'i', 'i', 's', 'n', 'n', 'n', 'I', 'c', 't', 'y']\n",
      "[('a', 5), (' ', 4), ('i', 3), ('n', 3), ('l', 2), ('d', 2), ('A', 1), ('h', 1), ('b', 1), ('s', 1), ('I', 1), ('c', 1), ('t', 1), ('y', 1)]\n",
      "[('a', 5), (' ', 4), ('i', 3)]\n"
     ]
    }
   ],
   "source": [
    "print(list(c.elements()))\n",
    "print(c.most_common())\n",
    "print(c.most_common(3))"
   ]
  },
  {
   "cell_type": "markdown",
   "metadata": {},
   "source": [
    "# Deque - double ended queue\n",
    "pop and append \n",
    "can be done at both ends"
   ]
  },
  {
   "cell_type": "code",
   "execution_count": 47,
   "metadata": {},
   "outputs": [
    {
     "name": "stdout",
     "output_type": "stream",
     "text": [
      "2\n",
      "deque([10, 4, 1, 2, 'a', 'b', 'c', 'abc', 1])\n",
      "1\n",
      "10\n",
      "deque([4, 1, 2, 'a', 'b', 'c', 'abc'])\n",
      "None\n",
      "None\n"
     ]
    },
    {
     "data": {
      "text/plain": [
       "deque([2, 'a', 'b', 'c', 'abc'])"
      ]
     },
     "execution_count": 47,
     "metadata": {},
     "output_type": "execute_result"
    }
   ],
   "source": [
    "from collections import deque\n",
    "e=deque()\n",
    "e.append(1)\n",
    "e.append(2)\n",
    "e.appendleft(4)\n",
    "e.appendleft(10)\n",
    "e.extend('abc')\n",
    "e.append('abc')\n",
    "e.append(1)\n",
    "print(e.count(1))\n",
    "print(e)\n",
    "#print(e.clear())\n",
    "print(e.pop())\n",
    "print(e.popleft())\n",
    "print(e)\n",
    "print(e.remove(1))\n",
    "print(e.remove(4))\n",
    "e"
   ]
  }
 ],
 "metadata": {
  "kernelspec": {
   "display_name": "Python 3",
   "language": "python",
   "name": "python3"
  },
  "language_info": {
   "codemirror_mode": {
    "name": "ipython",
    "version": 3
   },
   "file_extension": ".py",
   "mimetype": "text/x-python",
   "name": "python",
   "nbconvert_exporter": "python",
   "pygments_lexer": "ipython3",
   "version": "3.6.5"
  }
 },
 "nbformat": 4,
 "nbformat_minor": 2
}
